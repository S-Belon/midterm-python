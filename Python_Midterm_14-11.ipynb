{
 "cells": [
  {
   "cell_type": "markdown",
   "id": "7cc4aed8",
   "metadata": {},
   "source": [
    "# Python Midterm Exam"
   ]
  },
  {
   "cell_type": "markdown",
   "id": "c8b119c1",
   "metadata": {},
   "source": [
    "### Sander Belon"
   ]
  },
  {
   "cell_type": "markdown",
   "id": "52da16b5",
   "metadata": {},
   "source": [
    "### 14.11.2022"
   ]
  },
  {
   "cell_type": "markdown",
   "id": "d9b2005f",
   "metadata": {},
   "source": [
    "## Problem 1"
   ]
  },
  {
   "cell_type": "code",
   "execution_count": 4,
   "id": "617d51c8",
   "metadata": {},
   "outputs": [],
   "source": [
    "#importing packages\n",
    "\n",
    "import pandas as pd\n",
    "import numpy as np\n",
    "import requests\n",
    "import json"
   ]
  },
  {
   "cell_type": "code",
   "execution_count": 5,
   "id": "f59efb57",
   "metadata": {},
   "outputs": [],
   "source": [
    "url = 'https://ies-python-midterm.s3.eu-central-1.amazonaws.com/studentsSets/30241262.zip'"
   ]
  },
  {
   "cell_type": "code",
   "execution_count": 6,
   "id": "d73728da",
   "metadata": {},
   "outputs": [],
   "source": [
    "r = requests.get(url)"
   ]
  },
  {
   "cell_type": "code",
   "execution_count": 60,
   "id": "76dbe980",
   "metadata": {},
   "outputs": [],
   "source": [
    "L = ('./data/L.csv')"
   ]
  },
  {
   "cell_type": "code",
   "execution_count": 61,
   "id": "0458085f",
   "metadata": {},
   "outputs": [],
   "source": [
    "C = ('./data/C.csv')"
   ]
  },
  {
   "cell_type": "code",
   "execution_count": 62,
   "id": "88ea82e9",
   "metadata": {},
   "outputs": [],
   "source": [
    "ADP = ('./data/ADP.csv')"
   ]
  },
  {
   "cell_type": "code",
   "execution_count": 63,
   "id": "54b0b029",
   "metadata": {},
   "outputs": [],
   "source": [
    "LUV = ('./data/LUV.csv')"
   ]
  },
  {
   "cell_type": "code",
   "execution_count": 49,
   "id": "17046125",
   "metadata": {},
   "outputs": [],
   "source": [
    "df = pd.concat(\n",
    "    map(pd.read_csv, [df_L, df_ADP, df_C, df_LUV]))"
   ]
  },
  {
   "cell_type": "code",
   "execution_count": 70,
   "id": "4a840e9e",
   "metadata": {},
   "outputs": [],
   "source": [
    "df_L = pd.DataFrame(pd.read_csv(L))"
   ]
  },
  {
   "cell_type": "code",
   "execution_count": 71,
   "id": "449efc75",
   "metadata": {},
   "outputs": [],
   "source": [
    "df_L = df_L.set_index('Date')"
   ]
  },
  {
   "cell_type": "code",
   "execution_count": 80,
   "id": "7625202f",
   "metadata": {},
   "outputs": [],
   "source": [
    "df_C = pd.DataFrame(pd.read_csv(C))"
   ]
  },
  {
   "cell_type": "code",
   "execution_count": 81,
   "id": "d1d68a82",
   "metadata": {},
   "outputs": [],
   "source": [
    "df_C = df_C.set_index('Date')"
   ]
  },
  {
   "cell_type": "code",
   "execution_count": 83,
   "id": "9b4856f5",
   "metadata": {},
   "outputs": [],
   "source": [
    "df_ADP = pd.DataFrame(pd.read_csv(ADP))"
   ]
  },
  {
   "cell_type": "code",
   "execution_count": 84,
   "id": "88d30444",
   "metadata": {},
   "outputs": [],
   "source": [
    "df_ADP = df_ADP.set_index('Date')"
   ]
  },
  {
   "cell_type": "code",
   "execution_count": 87,
   "id": "7448e3f7",
   "metadata": {},
   "outputs": [],
   "source": [
    "df_LUV = pd.DataFrame(pd.read_csv(LUV))"
   ]
  },
  {
   "cell_type": "code",
   "execution_count": 88,
   "id": "61cf7cfc",
   "metadata": {},
   "outputs": [],
   "source": [
    "df_LUV = df_LUV.set_index('Date')"
   ]
  },
  {
   "cell_type": "code",
   "execution_count": 91,
   "id": "dcc8e879",
   "metadata": {},
   "outputs": [
    {
     "data": {
      "text/plain": [
       "Date\n",
       "2017-11-13     True\n",
       "2017-11-14     True\n",
       "2017-11-15     True\n",
       "2017-11-16     True\n",
       "2017-11-17     True\n",
       "              ...  \n",
       "2022-11-07    False\n",
       "2022-11-08    False\n",
       "2022-11-09    False\n",
       "2022-11-10    False\n",
       "2022-11-11    False\n",
       "Length: 1259, dtype: bool"
      ]
     },
     "execution_count": 91,
     "metadata": {},
     "output_type": "execute_result"
    }
   ],
   "source": [
    "df_L['Close']!=df_L['Adj Close']"
   ]
  },
  {
   "cell_type": "code",
   "execution_count": 93,
   "id": "c6c59fd7",
   "metadata": {},
   "outputs": [
    {
     "data": {
      "text/plain": [
       "Date\n",
       "2017-11-13     True\n",
       "2017-11-14     True\n",
       "2017-11-15     True\n",
       "2017-11-16     True\n",
       "2017-11-17     True\n",
       "              ...  \n",
       "2022-11-07    False\n",
       "2022-11-08    False\n",
       "2022-11-09    False\n",
       "2022-11-10    False\n",
       "2022-11-11    False\n",
       "Length: 1259, dtype: bool"
      ]
     },
     "execution_count": 93,
     "metadata": {},
     "output_type": "execute_result"
    }
   ],
   "source": [
    "df_C['Close']!=df_C['Adj Close']"
   ]
  },
  {
   "cell_type": "code",
   "execution_count": 95,
   "id": "f04f5f7c",
   "metadata": {},
   "outputs": [
    {
     "data": {
      "text/plain": [
       "Date\n",
       "2017-11-13     True\n",
       "2017-11-14     True\n",
       "2017-11-15     True\n",
       "2017-11-16     True\n",
       "2017-11-17     True\n",
       "              ...  \n",
       "2022-11-07    False\n",
       "2022-11-08    False\n",
       "2022-11-09    False\n",
       "2022-11-10    False\n",
       "2022-11-11    False\n",
       "Length: 1259, dtype: bool"
      ]
     },
     "execution_count": 95,
     "metadata": {},
     "output_type": "execute_result"
    }
   ],
   "source": [
    "df_LUV['Close']!=df_LUV['Adj Close']"
   ]
  },
  {
   "cell_type": "code",
   "execution_count": 96,
   "id": "1fdf1ba7",
   "metadata": {},
   "outputs": [
    {
     "data": {
      "text/plain": [
       "Date\n",
       "2017-11-13     True\n",
       "2017-11-14     True\n",
       "2017-11-15     True\n",
       "2017-11-16     True\n",
       "2017-11-17     True\n",
       "              ...  \n",
       "2022-11-07    False\n",
       "2022-11-08    False\n",
       "2022-11-09    False\n",
       "2022-11-10    False\n",
       "2022-11-11    False\n",
       "Length: 1259, dtype: bool"
      ]
     },
     "execution_count": 96,
     "metadata": {},
     "output_type": "execute_result"
    }
   ],
   "source": [
    "df_ADP['Close']!=df_ADP['Adj Close']"
   ]
  },
  {
   "cell_type": "markdown",
   "id": "644598d6",
   "metadata": {},
   "source": [
    "Yes, all companies experience at a specific date a difference between Close and Adj Close. This means that ..."
   ]
  },
  {
   "cell_type": "code",
   "execution_count": 98,
   "id": "dfe1812b",
   "metadata": {},
   "outputs": [
    {
     "data": {
      "text/html": [
       "<div>\n",
       "<style scoped>\n",
       "    .dataframe tbody tr th:only-of-type {\n",
       "        vertical-align: middle;\n",
       "    }\n",
       "\n",
       "    .dataframe tbody tr th {\n",
       "        vertical-align: top;\n",
       "    }\n",
       "\n",
       "    .dataframe thead th {\n",
       "        text-align: right;\n",
       "    }\n",
       "</style>\n",
       "<table border=\"1\" class=\"dataframe\">\n",
       "  <thead>\n",
       "    <tr style=\"text-align: right;\">\n",
       "      <th></th>\n",
       "      <th>High</th>\n",
       "      <th>Low</th>\n",
       "      <th>Open</th>\n",
       "      <th>Close</th>\n",
       "      <th>Volume</th>\n",
       "      <th>Adj Close</th>\n",
       "    </tr>\n",
       "  </thead>\n",
       "  <tbody>\n",
       "    <tr>\n",
       "      <th>count</th>\n",
       "      <td>1259.000000</td>\n",
       "      <td>1259.000000</td>\n",
       "      <td>1259.000000</td>\n",
       "      <td>1259.000000</td>\n",
       "      <td>1.259000e+03</td>\n",
       "      <td>1259.000000</td>\n",
       "    </tr>\n",
       "    <tr>\n",
       "      <th>mean</th>\n",
       "      <td>63.872065</td>\n",
       "      <td>62.380485</td>\n",
       "      <td>63.152280</td>\n",
       "      <td>63.106052</td>\n",
       "      <td>1.971048e+07</td>\n",
       "      <td>59.258520</td>\n",
       "    </tr>\n",
       "    <tr>\n",
       "      <th>std</th>\n",
       "      <td>10.615420</td>\n",
       "      <td>10.769412</td>\n",
       "      <td>10.685572</td>\n",
       "      <td>10.694397</td>\n",
       "      <td>8.784308e+06</td>\n",
       "      <td>9.388381</td>\n",
       "    </tr>\n",
       "    <tr>\n",
       "      <th>min</th>\n",
       "      <td>37.990002</td>\n",
       "      <td>32.000000</td>\n",
       "      <td>35.470001</td>\n",
       "      <td>35.389999</td>\n",
       "      <td>4.576200e+06</td>\n",
       "      <td>32.968502</td>\n",
       "    </tr>\n",
       "    <tr>\n",
       "      <th>25%</th>\n",
       "      <td>53.635000</td>\n",
       "      <td>52.025000</td>\n",
       "      <td>52.820002</td>\n",
       "      <td>52.809999</td>\n",
       "      <td>1.356420e+07</td>\n",
       "      <td>51.440001</td>\n",
       "    </tr>\n",
       "    <tr>\n",
       "      <th>50%</th>\n",
       "      <td>66.830002</td>\n",
       "      <td>65.230003</td>\n",
       "      <td>66.129997</td>\n",
       "      <td>66.080002</td>\n",
       "      <td>1.766090e+07</td>\n",
       "      <td>60.896164</td>\n",
       "    </tr>\n",
       "    <tr>\n",
       "      <th>75%</th>\n",
       "      <td>72.000000</td>\n",
       "      <td>70.680000</td>\n",
       "      <td>71.334999</td>\n",
       "      <td>71.375000</td>\n",
       "      <td>2.389980e+07</td>\n",
       "      <td>66.410423</td>\n",
       "    </tr>\n",
       "    <tr>\n",
       "      <th>max</th>\n",
       "      <td>83.110001</td>\n",
       "      <td>80.970001</td>\n",
       "      <td>81.959999</td>\n",
       "      <td>81.910004</td>\n",
       "      <td>8.656620e+07</td>\n",
       "      <td>78.082741</td>\n",
       "    </tr>\n",
       "  </tbody>\n",
       "</table>\n",
       "</div>"
      ],
      "text/plain": [
       "              High          Low         Open        Close        Volume  \\\n",
       "count  1259.000000  1259.000000  1259.000000  1259.000000  1.259000e+03   \n",
       "mean     63.872065    62.380485    63.152280    63.106052  1.971048e+07   \n",
       "std      10.615420    10.769412    10.685572    10.694397  8.784308e+06   \n",
       "min      37.990002    32.000000    35.470001    35.389999  4.576200e+06   \n",
       "25%      53.635000    52.025000    52.820002    52.809999  1.356420e+07   \n",
       "50%      66.830002    65.230003    66.129997    66.080002  1.766090e+07   \n",
       "75%      72.000000    70.680000    71.334999    71.375000  2.389980e+07   \n",
       "max      83.110001    80.970001    81.959999    81.910004  8.656620e+07   \n",
       "\n",
       "         Adj Close  \n",
       "count  1259.000000  \n",
       "mean     59.258520  \n",
       "std       9.388381  \n",
       "min      32.968502  \n",
       "25%      51.440001  \n",
       "50%      60.896164  \n",
       "75%      66.410423  \n",
       "max      78.082741  "
      ]
     },
     "execution_count": 98,
     "metadata": {},
     "output_type": "execute_result"
    }
   ],
   "source": [
    "df_C.describe()"
   ]
  },
  {
   "cell_type": "code",
   "execution_count": 99,
   "id": "e9b58776",
   "metadata": {},
   "outputs": [
    {
     "data": {
      "text/html": [
       "<div>\n",
       "<style scoped>\n",
       "    .dataframe tbody tr th:only-of-type {\n",
       "        vertical-align: middle;\n",
       "    }\n",
       "\n",
       "    .dataframe tbody tr th {\n",
       "        vertical-align: top;\n",
       "    }\n",
       "\n",
       "    .dataframe thead th {\n",
       "        text-align: right;\n",
       "    }\n",
       "</style>\n",
       "<table border=\"1\" class=\"dataframe\">\n",
       "  <thead>\n",
       "    <tr style=\"text-align: right;\">\n",
       "      <th></th>\n",
       "      <th>High</th>\n",
       "      <th>Low</th>\n",
       "      <th>Open</th>\n",
       "      <th>Close</th>\n",
       "      <th>Volume</th>\n",
       "      <th>Adj Close</th>\n",
       "    </tr>\n",
       "  </thead>\n",
       "  <tbody>\n",
       "    <tr>\n",
       "      <th>count</th>\n",
       "      <td>1259.000000</td>\n",
       "      <td>1259.000000</td>\n",
       "      <td>1259.000000</td>\n",
       "      <td>1259.000000</td>\n",
       "      <td>1.259000e+03</td>\n",
       "      <td>1259.000000</td>\n",
       "    </tr>\n",
       "    <tr>\n",
       "      <th>mean</th>\n",
       "      <td>50.671660</td>\n",
       "      <td>49.703312</td>\n",
       "      <td>50.184075</td>\n",
       "      <td>50.176052</td>\n",
       "      <td>1.057290e+06</td>\n",
       "      <td>49.702547</td>\n",
       "    </tr>\n",
       "    <tr>\n",
       "      <th>std</th>\n",
       "      <td>7.579851</td>\n",
       "      <td>7.681085</td>\n",
       "      <td>7.633258</td>\n",
       "      <td>7.632317</td>\n",
       "      <td>5.437245e+05</td>\n",
       "      <td>7.721808</td>\n",
       "    </tr>\n",
       "    <tr>\n",
       "      <th>min</th>\n",
       "      <td>29.420000</td>\n",
       "      <td>27.330000</td>\n",
       "      <td>28.250000</td>\n",
       "      <td>28.799999</td>\n",
       "      <td>3.001000e+05</td>\n",
       "      <td>28.493643</td>\n",
       "    </tr>\n",
       "    <tr>\n",
       "      <th>25%</th>\n",
       "      <td>48.025000</td>\n",
       "      <td>47.205000</td>\n",
       "      <td>47.594999</td>\n",
       "      <td>47.575001</td>\n",
       "      <td>7.223000e+05</td>\n",
       "      <td>46.878710</td>\n",
       "    </tr>\n",
       "    <tr>\n",
       "      <th>50%</th>\n",
       "      <td>51.049999</td>\n",
       "      <td>50.299999</td>\n",
       "      <td>50.689999</td>\n",
       "      <td>50.759998</td>\n",
       "      <td>9.347000e+05</td>\n",
       "      <td>49.952072</td>\n",
       "    </tr>\n",
       "    <tr>\n",
       "      <th>75%</th>\n",
       "      <td>55.539999</td>\n",
       "      <td>54.625000</td>\n",
       "      <td>55.094999</td>\n",
       "      <td>55.119999</td>\n",
       "      <td>1.222200e+06</td>\n",
       "      <td>54.881210</td>\n",
       "    </tr>\n",
       "    <tr>\n",
       "      <th>max</th>\n",
       "      <td>68.199997</td>\n",
       "      <td>66.599998</td>\n",
       "      <td>67.500000</td>\n",
       "      <td>67.360001</td>\n",
       "      <td>5.592500e+06</td>\n",
       "      <td>67.360001</td>\n",
       "    </tr>\n",
       "  </tbody>\n",
       "</table>\n",
       "</div>"
      ],
      "text/plain": [
       "              High          Low         Open        Close        Volume  \\\n",
       "count  1259.000000  1259.000000  1259.000000  1259.000000  1.259000e+03   \n",
       "mean     50.671660    49.703312    50.184075    50.176052  1.057290e+06   \n",
       "std       7.579851     7.681085     7.633258     7.632317  5.437245e+05   \n",
       "min      29.420000    27.330000    28.250000    28.799999  3.001000e+05   \n",
       "25%      48.025000    47.205000    47.594999    47.575001  7.223000e+05   \n",
       "50%      51.049999    50.299999    50.689999    50.759998  9.347000e+05   \n",
       "75%      55.539999    54.625000    55.094999    55.119999  1.222200e+06   \n",
       "max      68.199997    66.599998    67.500000    67.360001  5.592500e+06   \n",
       "\n",
       "         Adj Close  \n",
       "count  1259.000000  \n",
       "mean     49.702547  \n",
       "std       7.721808  \n",
       "min      28.493643  \n",
       "25%      46.878710  \n",
       "50%      49.952072  \n",
       "75%      54.881210  \n",
       "max      67.360001  "
      ]
     },
     "execution_count": 99,
     "metadata": {},
     "output_type": "execute_result"
    }
   ],
   "source": [
    "df_L.describe()"
   ]
  },
  {
   "cell_type": "code",
   "execution_count": 100,
   "id": "5e230862",
   "metadata": {},
   "outputs": [
    {
     "data": {
      "text/html": [
       "<div>\n",
       "<style scoped>\n",
       "    .dataframe tbody tr th:only-of-type {\n",
       "        vertical-align: middle;\n",
       "    }\n",
       "\n",
       "    .dataframe tbody tr th {\n",
       "        vertical-align: top;\n",
       "    }\n",
       "\n",
       "    .dataframe thead th {\n",
       "        text-align: right;\n",
       "    }\n",
       "</style>\n",
       "<table border=\"1\" class=\"dataframe\">\n",
       "  <thead>\n",
       "    <tr style=\"text-align: right;\">\n",
       "      <th></th>\n",
       "      <th>High</th>\n",
       "      <th>Low</th>\n",
       "      <th>Open</th>\n",
       "      <th>Close</th>\n",
       "      <th>Volume</th>\n",
       "      <th>Adj Close</th>\n",
       "    </tr>\n",
       "  </thead>\n",
       "  <tbody>\n",
       "    <tr>\n",
       "      <th>count</th>\n",
       "      <td>1259.000000</td>\n",
       "      <td>1259.000000</td>\n",
       "      <td>1259.000000</td>\n",
       "      <td>1259.000000</td>\n",
       "      <td>1.259000e+03</td>\n",
       "      <td>1259.000000</td>\n",
       "    </tr>\n",
       "    <tr>\n",
       "      <th>mean</th>\n",
       "      <td>49.669531</td>\n",
       "      <td>48.304702</td>\n",
       "      <td>49.010350</td>\n",
       "      <td>48.968205</td>\n",
       "      <td>7.298895e+06</td>\n",
       "      <td>48.537834</td>\n",
       "    </tr>\n",
       "    <tr>\n",
       "      <th>std</th>\n",
       "      <td>8.913654</td>\n",
       "      <td>9.044236</td>\n",
       "      <td>8.970799</td>\n",
       "      <td>8.984196</td>\n",
       "      <td>6.304535e+06</td>\n",
       "      <td>8.656748</td>\n",
       "    </tr>\n",
       "    <tr>\n",
       "      <th>min</th>\n",
       "      <td>24.809999</td>\n",
       "      <td>22.469999</td>\n",
       "      <td>23.379999</td>\n",
       "      <td>23.870001</td>\n",
       "      <td>1.098400e+06</td>\n",
       "      <td>23.870001</td>\n",
       "    </tr>\n",
       "    <tr>\n",
       "      <th>25%</th>\n",
       "      <td>43.490002</td>\n",
       "      <td>41.990000</td>\n",
       "      <td>42.755001</td>\n",
       "      <td>42.820000</td>\n",
       "      <td>4.100250e+06</td>\n",
       "      <td>42.820000</td>\n",
       "    </tr>\n",
       "    <tr>\n",
       "      <th>50%</th>\n",
       "      <td>51.560001</td>\n",
       "      <td>50.340000</td>\n",
       "      <td>50.959999</td>\n",
       "      <td>50.910000</td>\n",
       "      <td>5.683900e+06</td>\n",
       "      <td>50.234112</td>\n",
       "    </tr>\n",
       "    <tr>\n",
       "      <th>75%</th>\n",
       "      <td>55.889999</td>\n",
       "      <td>54.540001</td>\n",
       "      <td>55.260000</td>\n",
       "      <td>55.115000</td>\n",
       "      <td>8.255000e+06</td>\n",
       "      <td>54.644875</td>\n",
       "    </tr>\n",
       "    <tr>\n",
       "      <th>max</th>\n",
       "      <td>66.989998</td>\n",
       "      <td>65.980003</td>\n",
       "      <td>66.500000</td>\n",
       "      <td>66.290001</td>\n",
       "      <td>1.010078e+08</td>\n",
       "      <td>64.447029</td>\n",
       "    </tr>\n",
       "  </tbody>\n",
       "</table>\n",
       "</div>"
      ],
      "text/plain": [
       "              High          Low         Open        Close        Volume  \\\n",
       "count  1259.000000  1259.000000  1259.000000  1259.000000  1.259000e+03   \n",
       "mean     49.669531    48.304702    49.010350    48.968205  7.298895e+06   \n",
       "std       8.913654     9.044236     8.970799     8.984196  6.304535e+06   \n",
       "min      24.809999    22.469999    23.379999    23.870001  1.098400e+06   \n",
       "25%      43.490002    41.990000    42.755001    42.820000  4.100250e+06   \n",
       "50%      51.560001    50.340000    50.959999    50.910000  5.683900e+06   \n",
       "75%      55.889999    54.540001    55.260000    55.115000  8.255000e+06   \n",
       "max      66.989998    65.980003    66.500000    66.290001  1.010078e+08   \n",
       "\n",
       "         Adj Close  \n",
       "count  1259.000000  \n",
       "mean     48.537834  \n",
       "std       8.656748  \n",
       "min      23.870001  \n",
       "25%      42.820000  \n",
       "50%      50.234112  \n",
       "75%      54.644875  \n",
       "max      64.447029  "
      ]
     },
     "execution_count": 100,
     "metadata": {},
     "output_type": "execute_result"
    }
   ],
   "source": [
    "df_LUV.describe()"
   ]
  },
  {
   "cell_type": "code",
   "execution_count": 101,
   "id": "4b7f0ddd",
   "metadata": {},
   "outputs": [
    {
     "data": {
      "text/html": [
       "<div>\n",
       "<style scoped>\n",
       "    .dataframe tbody tr th:only-of-type {\n",
       "        vertical-align: middle;\n",
       "    }\n",
       "\n",
       "    .dataframe tbody tr th {\n",
       "        vertical-align: top;\n",
       "    }\n",
       "\n",
       "    .dataframe thead th {\n",
       "        text-align: right;\n",
       "    }\n",
       "</style>\n",
       "<table border=\"1\" class=\"dataframe\">\n",
       "  <thead>\n",
       "    <tr style=\"text-align: right;\">\n",
       "      <th></th>\n",
       "      <th>High</th>\n",
       "      <th>Low</th>\n",
       "      <th>Open</th>\n",
       "      <th>Close</th>\n",
       "      <th>Volume</th>\n",
       "      <th>Adj Close</th>\n",
       "    </tr>\n",
       "  </thead>\n",
       "  <tbody>\n",
       "    <tr>\n",
       "      <th>count</th>\n",
       "      <td>1259.000000</td>\n",
       "      <td>1259.000000</td>\n",
       "      <td>1259.000000</td>\n",
       "      <td>1259.000000</td>\n",
       "      <td>1.259000e+03</td>\n",
       "      <td>1259.000000</td>\n",
       "    </tr>\n",
       "    <tr>\n",
       "      <th>mean</th>\n",
       "      <td>172.437522</td>\n",
       "      <td>169.084520</td>\n",
       "      <td>170.771398</td>\n",
       "      <td>170.861612</td>\n",
       "      <td>1.978432e+06</td>\n",
       "      <td>163.661444</td>\n",
       "    </tr>\n",
       "    <tr>\n",
       "      <th>std</th>\n",
       "      <td>37.752878</td>\n",
       "      <td>37.177623</td>\n",
       "      <td>37.455614</td>\n",
       "      <td>37.463405</td>\n",
       "      <td>1.039699e+06</td>\n",
       "      <td>40.471893</td>\n",
       "    </tr>\n",
       "    <tr>\n",
       "      <th>min</th>\n",
       "      <td>110.440002</td>\n",
       "      <td>103.110001</td>\n",
       "      <td>108.529999</td>\n",
       "      <td>108.250000</td>\n",
       "      <td>3.502000e+05</td>\n",
       "      <td>98.127808</td>\n",
       "    </tr>\n",
       "    <tr>\n",
       "      <th>25%</th>\n",
       "      <td>142.335007</td>\n",
       "      <td>139.080002</td>\n",
       "      <td>140.985001</td>\n",
       "      <td>140.805000</td>\n",
       "      <td>1.364000e+06</td>\n",
       "      <td>132.173737</td>\n",
       "    </tr>\n",
       "    <tr>\n",
       "      <th>50%</th>\n",
       "      <td>165.619995</td>\n",
       "      <td>162.710007</td>\n",
       "      <td>164.410004</td>\n",
       "      <td>164.389999</td>\n",
       "      <td>1.739700e+06</td>\n",
       "      <td>154.279160</td>\n",
       "    </tr>\n",
       "    <tr>\n",
       "      <th>75%</th>\n",
       "      <td>204.384995</td>\n",
       "      <td>200.279999</td>\n",
       "      <td>202.160004</td>\n",
       "      <td>201.989998</td>\n",
       "      <td>2.264100e+06</td>\n",
       "      <td>198.518616</td>\n",
       "    </tr>\n",
       "    <tr>\n",
       "      <th>max</th>\n",
       "      <td>261.589996</td>\n",
       "      <td>259.549988</td>\n",
       "      <td>260.369995</td>\n",
       "      <td>260.940002</td>\n",
       "      <td>1.711080e+07</td>\n",
       "      <td>259.817322</td>\n",
       "    </tr>\n",
       "  </tbody>\n",
       "</table>\n",
       "</div>"
      ],
      "text/plain": [
       "              High          Low         Open        Close        Volume  \\\n",
       "count  1259.000000  1259.000000  1259.000000  1259.000000  1.259000e+03   \n",
       "mean    172.437522   169.084520   170.771398   170.861612  1.978432e+06   \n",
       "std      37.752878    37.177623    37.455614    37.463405  1.039699e+06   \n",
       "min     110.440002   103.110001   108.529999   108.250000  3.502000e+05   \n",
       "25%     142.335007   139.080002   140.985001   140.805000  1.364000e+06   \n",
       "50%     165.619995   162.710007   164.410004   164.389999  1.739700e+06   \n",
       "75%     204.384995   200.279999   202.160004   201.989998  2.264100e+06   \n",
       "max     261.589996   259.549988   260.369995   260.940002  1.711080e+07   \n",
       "\n",
       "         Adj Close  \n",
       "count  1259.000000  \n",
       "mean    163.661444  \n",
       "std      40.471893  \n",
       "min      98.127808  \n",
       "25%     132.173737  \n",
       "50%     154.279160  \n",
       "75%     198.518616  \n",
       "max     259.817322  "
      ]
     },
     "execution_count": 101,
     "metadata": {},
     "output_type": "execute_result"
    }
   ],
   "source": [
    "df_ADP.describe()"
   ]
  },
  {
   "cell_type": "markdown",
   "id": "046ee71b",
   "metadata": {},
   "source": [
    "- For company C:\n",
    "-- The highest price for Adj Close counts 78.082741.\n",
    "-- The lowes price counts 32.968502.\n",
    "- For company L:\n",
    "-- The highest price for Adj Close counts 67.360001.\n",
    "-- The lowes price counts 28.493643.\n",
    "- For company LUV:\n",
    "-- The highest price for Adj Close counts 64.447029.\n",
    "-- The lowes price counts 23.870001.\n",
    "- For company ADP:\n",
    "-- The highest price for Adj Close counts 259.817322.\n",
    "-- The lowes price counts 98.127808."
   ]
  },
  {
   "cell_type": "code",
   "execution_count": 104,
   "id": "a259f796",
   "metadata": {},
   "outputs": [],
   "source": [
    "df_L['ln']= np.log2(df_L['Adj Close'])\n",
    "df_C['ln']= np.log2(df_C['Adj Close'])\n",
    "df_LUV['ln']= np.log2(df_LUV['Adj Close'])\n",
    "df_ADP['ln']= np.log2(df_ADP['Adj Close'])"
   ]
  },
  {
   "cell_type": "code",
   "execution_count": 108,
   "id": "de4640dd",
   "metadata": {},
   "outputs": [
    {
     "data": {
      "text/plain": [
       "count    1259.000000\n",
       "mean        5.616136\n",
       "std         0.241265\n",
       "min         4.832568\n",
       "25%         5.550861\n",
       "50%         5.642473\n",
       "75%         5.778240\n",
       "max         6.073820\n",
       "Name: ln, dtype: float64"
      ]
     },
     "execution_count": 108,
     "metadata": {},
     "output_type": "execute_result"
    }
   ],
   "source": [
    "df_L['ln'].describe()"
   ]
  },
  {
   "cell_type": "code",
   "execution_count": 112,
   "id": "627bdb7f",
   "metadata": {},
   "outputs": [
    {
     "data": {
      "text/plain": [
       "count    1259.000000\n",
       "mean        5.869359\n",
       "std         0.243051\n",
       "min         5.043016\n",
       "25%         5.684819\n",
       "50%         5.928279\n",
       "75%         6.053338\n",
       "max         6.286932\n",
       "Name: ln, dtype: float64"
      ]
     },
     "execution_count": 112,
     "metadata": {},
     "output_type": "execute_result"
    }
   ],
   "source": [
    "df_C['ln'].describe()"
   ]
  },
  {
   "cell_type": "code",
   "execution_count": 113,
   "id": "832ac06e",
   "metadata": {},
   "outputs": [
    {
     "data": {
      "text/plain": [
       "count    1259.000000\n",
       "mean        5.575712\n",
       "std         0.278040\n",
       "min         4.577127\n",
       "25%         5.420213\n",
       "50%         5.650595\n",
       "75%         5.772014\n",
       "max         6.010042\n",
       "Name: ln, dtype: float64"
      ]
     },
     "execution_count": 113,
     "metadata": {},
     "output_type": "execute_result"
    }
   ],
   "source": [
    "df_LUV['ln'].describe()"
   ]
  },
  {
   "cell_type": "code",
   "execution_count": 114,
   "id": "8b18b90f",
   "metadata": {},
   "outputs": [
    {
     "data": {
      "text/plain": [
       "count    1259.000000\n",
       "mean        7.311148\n",
       "std         0.353637\n",
       "min         6.616590\n",
       "25%         7.046292\n",
       "50%         7.269399\n",
       "75%         7.633130\n",
       "max         8.021354\n",
       "Name: ln, dtype: float64"
      ]
     },
     "execution_count": 114,
     "metadata": {},
     "output_type": "execute_result"
    }
   ],
   "source": [
    "df_ADP['ln'].describe()"
   ]
  },
  {
   "cell_type": "code",
   "execution_count": 119,
   "id": "d4154e72",
   "metadata": {},
   "outputs": [
    {
     "data": {
      "text/plain": [
       "High         2022-04-21\n",
       "Low          2022-04-21\n",
       "Open         2022-04-21\n",
       "Close        2022-04-20\n",
       "Volume       2021-09-17\n",
       "Adj Close    2022-04-20\n",
       "Match        2017-11-13\n",
       "ln           2022-04-20\n",
       "dtype: object"
      ]
     },
     "execution_count": 119,
     "metadata": {},
     "output_type": "execute_result"
    }
   ],
   "source": [
    "df_L.idxmax()"
   ]
  },
  {
   "cell_type": "code",
   "execution_count": 123,
   "id": "6fa8946a",
   "metadata": {},
   "outputs": [
    {
     "data": {
      "text/plain": [
       "High         2020-01-14\n",
       "Low          2020-01-14\n",
       "Open         2020-01-16\n",
       "Close        2020-01-14\n",
       "Volume       2022-07-15\n",
       "Adj Close    2021-06-02\n",
       "ln           2021-06-02\n",
       "dtype: object"
      ]
     },
     "execution_count": 123,
     "metadata": {},
     "output_type": "execute_result"
    }
   ],
   "source": [
    "df_C.idxmax()"
   ]
  },
  {
   "cell_type": "code",
   "execution_count": 124,
   "id": "5c5d13bd",
   "metadata": {},
   "outputs": [
    {
     "data": {
      "text/plain": [
       "High         2017-12-21\n",
       "Low          2017-12-21\n",
       "Open         2017-12-21\n",
       "Close        2018-01-02\n",
       "Volume       2020-04-29\n",
       "Adj Close    2018-01-02\n",
       "ln           2018-01-02\n",
       "dtype: object"
      ]
     },
     "execution_count": 124,
     "metadata": {},
     "output_type": "execute_result"
    }
   ],
   "source": [
    "df_LUV.idxmax()"
   ]
  },
  {
   "cell_type": "code",
   "execution_count": 125,
   "id": "af1226f8",
   "metadata": {},
   "outputs": [
    {
     "data": {
      "text/plain": [
       "High         2022-08-18\n",
       "Low          2022-08-18\n",
       "Open         2022-08-18\n",
       "Close        2022-08-18\n",
       "Volume       2019-07-02\n",
       "Adj Close    2022-08-18\n",
       "ln           2022-08-18\n",
       "dtype: object"
      ]
     },
     "execution_count": 125,
     "metadata": {},
     "output_type": "execute_result"
    }
   ],
   "source": [
    "df_ADP.idxmax()"
   ]
  },
  {
   "cell_type": "markdown",
   "id": "5d8cdf75",
   "metadata": {},
   "source": [
    "## Problem 2"
   ]
  },
  {
   "cell_type": "code",
   "execution_count": 133,
   "id": "07795694",
   "metadata": {},
   "outputs": [
    {
     "data": {
      "text/plain": [
       "'ï»¿Symbol,Security,GICSÂ\\xa0Sector,hq,included,Founded\\r\\nMMM,3M,Industrials,\"Saint Paul, Minnesota\",09.08.1976,1902\\r\\nAOS,A. O. Smith,Industrials,\"Milwaukee, Wisconsin\",26.07.2017,1916\\r\\nABT,Abbott,Health Care,\"North Chicago, Illinois\",31.03.1964,1888\\r\\nABBV,AbbVie,Health Care,\"North Chicago, Illinois\",31.12.2012,2013 (1888)\\r\\nABMD,Abiomed,Health Care,\"Danvers, Massachusetts\",31.05.2018,1981\\r\\nACN,Accenture,Information Technology,\"Dublin, Ireland\",06.07.2011,1989\\r\\nATVI,Activision Blizzard,Communication Services,\"Santa Monica, California\",31.08.2015,2008\\r\\nADM,ADM,Consumer Staples,\"Chicago, Illinois\",29.07.1981,1902\\r\\nADBE,Adobe Inc.,Information Technology,\"San Jose, California\",05.05.1997,1982\\r\\nADP,ADP,Information Technology,\"Roseland, New Jersey\",31.03.1981,1949\\r\\nAAP,Advance Auto Parts,Consumer Discretionary,\"Raleigh, North Carolina\",09.07.2015,1932\\r\\nAES,AES Corporation,Utilities,\"Arlington, Virginia\",02.10.1998,1981\\r\\nAFL,Aflac,Financials,\"Columbus, Georgia\",28.05.1999,1955\\r\\nA,Agilent Technologies,Health Care,\"Santa Clara, California\",05.06.2000,1999\\r\\nAPD,Air Products and Chemicals,Materials,\"Allentown, Pennsylvania\",30.04.1985,1940\\r\\nAKAM,Akamai,Information Technology,\"Cambridge, Massachusetts\",12.07.2007,1998\\r\\nALK,Alaska Air Group,Industrials,\"SeaTac, Washington\",13.05.2016,1985\\r\\nALB,Albemarle Corporation,Materials,\"Charlotte, North Carolina\",01.07.2016,1994\\r\\nARE,Alexandria Real Estate Equities,Real Estate,\"Pasadena, California\",20.03.2017,1994\\r\\nALGN,Align Technology,Health Care,\"Tempe, Arizona\",19.06.2017,1997\\r\\nALLE,Allegion,Industrials,\"New York City, New York\",02.12.2013,1908\\r\\nLNT,Alliant Energy,Utilities,\"Madison, Wisconsin\",01.07.2016,1917\\r\\nALL,Allstate,Financials,\"Northfield Township, Illinois\",13.07.1995,1931\\r\\nGOOGL,Alphabet Inc.Â\\xa0(Class A),Communication Services,\"Mountain View, California\",03.04.2014,1998\\r\\nGOOG,Alphabet Inc.Â\\xa0(Class C),Communication Services,\"Mountain View, California\",03.04.2006,1998\\r\\nMO,Altria,Consumer Staples,\"Richmond, Virginia\",04.03.1957,1985\\r\\nAMZN,Amazon,Consumer Discretionary,\"Seattle, Washington\",18.11.2005,1994\\r\\nAMCR,Amcor,Materials,\"Warmley,Â\\xa0Bristol, United Kingdom\",07.06.2019,2019 (1860)\\r\\nAMD,AMD,Information Technology,\"Santa Clara, California\",,1969\\r\\nAEE,Ameren,Utilities,\"St. Louis, Missouri\",19.09.1991,1902\\r\\nAAL,American Airlines Group,Industrials,\"Fort Worth, Texas\",23.03.2015,1934\\r\\nAEP,American Electric Power,Utilities,\"Columbus, Ohio\",04.03.1957,1906\\r\\nAXP,American Express,Financials,\"New York City, New York\",30.06.1976,1850\\r\\nAIG,American International Group,Financials,\"New York City, New York\",31.03.1980,1919\\r\\nAMT,American Tower,Real Estate,\"Boston, Massachusetts\",19.11.2007,1995\\r\\nAWK,American Water Works,Utilities,\"Camden, New Jersey\",04.03.2016,1886\\r\\nAMP,Ameriprise Financial,Financials,\"Minneapolis, Minnesota\",03.10.2005,1894\\r\\nABC,AmerisourceBergen,Health Care,\"Conshohocken, Pennsylvania\",30.08.2001,1985\\r\\nAME,Ametek,Industrials,\"Berwyn, Pennsylvania\",23.09.2013,1930\\r\\nAMGN,Amgen,Health Care,\"Thousand Oaks, California\",02.01.1992,1980\\r\\nAPH,Amphenol,Information Technology,\"Wallingford, Connecticut\",30.09.2008,1932\\r\\nADI,Analog Devices,Information Technology,\"Wilmington, Massachusetts\",12.10.1999,1965\\r\\nANSS,Ansys,Information Technology,\"Canonsburg, Pennsylvania\",19.06.2017,1969\\r\\nAON,Aon,Financials,\"London, UK\",23.04.1996,1982 (1919)\\r\\nAPA,APA Corporation,Energy,\"Houston, Texas\",28.07.1997,1954\\r\\nAAPL,Apple Inc.,Information Technology,\"Cupertino, California\",30.11.1982,1977\\r\\nAMAT,Applied Materials,Information Technology,\"Santa Clara, California\",16.03.1995,1967\\r\\nAPTV,Aptiv,Consumer Discretionary,\"Dublin, Ireland\",24.12.2012,1994\\r\\nACGL,Arch Capital Group,Financials,\"Hamilton, Bermuda\",01.11.2022,1995\\r\\nANET,Arista Networks,Information Technology,\"Santa Clara, California\",28.08.2018,2004\\r\\nAJG,Arthur J. Gallagher & Co.,Financials,\"Rolling Meadows, Illinois\",31.05.2016,1927\\r\\nAIZ,Assurant,Financials,\"New York City, New York\",10.04.2007,1892\\r\\nT,AT&T,Communication Services,\"Dallas, Texas\",1983-11-30 (1957-03-04),1983 (1885)\\r\\nATO,Atmos Energy,Utilities,\"Dallas, Texas\",15.02.2019,1906\\r\\nADSK,Autodesk,Information Technology,\"San Francisco, California\",01.12.1989,1982\\r\\nAZO,AutoZone,Consumer Discretionary,\"Memphis, Tennessee\",02.01.1997,1979\\r\\nAVB,AvalonBay Communities,Real Estate,\"Arlington, Virginia\",10.01.2007,1978\\r\\nAVY,Avery Dennison,Materials,\"Glendale, California\",31.12.1987,1990\\r\\nBKR,Baker Hughes,Energy,\"Houston, Texas\",07.07.2017,2017\\r\\nBALL,Ball Corporation,Materials,\"Broomfield, Colorado\",31.10.1984,1880\\r\\nBAC,Bank of America,Financials,\"Charlotte, North Carolina\",30.06.1976,1998 (1923 / 1874)\\r\\nBBWI,\"Bath & Body Works, Inc.\",Consumer Discretionary,\"Columbus, Ohio\",30.09.1983,1963\\r\\nBAX,Baxter International,Health Care,\"Deerfield, Illinois\",30.09.1972,1931\\r\\nBDX,Becton Dickinson,Health Care,\"Franklin Lakes, New Jersey\",30.09.1972,1897\\r\\nWRB,Berkley,Financials,\"Greenwich, Connecticut\",05.12.2019,1967\\r\\nBRK.B,Berkshire Hathaway,Financials,\"Omaha, Nebraska\",16.02.2010,1839\\r\\nBBY,Best Buy,Consumer Discretionary,\"Richfield, Minnesota\",29.06.1999,1966\\r\\nBIO,Bio-Rad,Health Care,\"Hercules, California\",22.06.2020,1952\\r\\nTECH,Bio-Techne,Health Care,\"Minneapolis, Minnesota\",30.08.2021,1976\\r\\nBIIB,Biogen,Health Care,\"Cambridge, Massachusetts\",13.11.2003,1978\\r\\nBLK,BlackRock,Financials,\"New York City, New York\",04.04.2011,1988\\r\\nBK,BNY Mellon,Financials,\"New York City, New York\",31.03.1995,1784\\r\\nBA,Boeing,Industrials,\"Chicago, Illinois\",04.03.1957,1916\\r\\nBKNG,Booking Holdings,Consumer Discretionary,\"Norwalk, Connecticut\",06.11.2009,1996\\r\\nBWA,BorgWarner,Consumer Discretionary,\"Auburn Hills, Michigan\",19.12.2011,1880\\r\\nBXP,Boston Properties,Real Estate,\"Boston, Massachusetts\",03.04.2006,1970\\r\\nBSX,Boston Scientific,Health Care,\"Marlborough, Massachusetts\",24.02.1995,1979\\r\\nBMY,Bristol Myers Squibb,Health Care,\"New York City, New York\",04.03.1957,1989\\r\\nAVGO,Broadcom Inc.,Information Technology,\"San Jose, California\",08.05.2014,1961\\r\\nBR,Broadridge Financial Solutions,Information Technology,\"Lake Success, New York\",18.06.2018,1962\\r\\nBRO,Brown & Brown,Financials,\"Daytona Beach, Florida\",20.09.2021,1939\\r\\nBF.B,Brownâ\\x80\\x93Forman,Consumer Staples,\"Louisville, Kentucky\",31.10.1982,1870\\r\\nCHRW,C.H. Robinson,Industrials,\"Eden Prairie, Minnesota\",02.03.2007,1905\\r\\nCDNS,Cadence Design Systems,Information Technology,\"San Jose, California\",18.09.2017,1988\\r\\nCZR,Caesars Entertainment,Consumer Discretionary,\"Reno, Nevada\",22.03.2021,1973\\r\\nCPT,Camden Property Trust,Real Estate,\"Houston, Texas\",04.04.2022,1981\\r\\nCPB,Campbell Soup Company,Consumer Staples,\"Camden, New Jersey\",04.03.1957,1869\\r\\nCOF,Capital One,Financials,\"Tysons Corner, Virginia\",01.07.1998,1994\\r\\nCAH,Cardinal Health,Health Care,\"Dublin, Ohio\",27.05.1997,1971\\r\\nKMX,CarMax,Consumer Discretionary,\"Richmond, Virginia\",28.06.2010,1993\\r\\nCCL,Carnival,Consumer Discretionary,\"Miami, Florida\",22.12.1998,1972\\r\\nCARR,Carrier Global,Industrials,\"Palm Beach Gardens, Florida\",03.04.2020,2020 (1915)\\r\\nCTLT,Catalent,Health Care,\"Somerset, New Jersey\",21.09.2020,2007\\r\\nCAT,Caterpillar Inc.,Industrials,\"Irving, Texas\",04.03.1957,1925\\r\\nCBOE,Cboe Global Markets,Financials,\"Chicago, Illinois\",01.03.2017,1973\\r\\nCBRE,CBRE Group,Real Estate,\"Dallas, Texas\",10.11.2006,1906\\r\\nCDW,CDW,Information Technology,\"Lincolnshire, Illinois\",23.09.2019,1984\\r\\nCE,Celanese,Materials,\"Irving, Texas\",24.12.2018,1918\\r\\nCNC,Centene Corporation,Health Care,\"St. Louis, Missouri\",30.03.2016,1984\\r\\nCNP,CenterPoint Energy,Utilities,\"Houston, Texas\",31.07.1985,1882\\r\\nCDAY,Ceridian,Information Technology,\"Minneapolis, Minnesota\",20.09.2021,1992\\r\\nCF,CF Industries,Materials,\"Deerfield, Illinois\",27.08.2008,1946\\r\\nCRL,Charles River Laboratories,Health Care,\"Wilmington, Massachusetts\",14.05.2021,1947\\r\\nSCHW,Charles Schwab Corporation,Financials,\"Westlake, Texas\",02.06.1997,1971\\r\\nCHTR,Charter Communications,Communication Services,\"Stamford, Connecticut\",08.09.2016,1993\\r\\nCVX,Chevron Corporation,Energy,\"San Ramon, California\",04.03.1957,1879\\r\\nCMG,Chipotle Mexican Grill,Consumer Discretionary,\"Newport Beach, California\",28.04.2011,1993\\r\\nCB,Chubb Limited,Financials,\"Zurich, Switzerland\",15.07.2010,1985\\r\\nCHD,Church & Dwight,Consumer Staples,\"Ewing, New Jersey\",29.12.2015,1847\\r\\nCI,Cigna,Health Care,\"Bloomfield, Connecticut\",30.06.1976,1982\\r\\nCINF,Cincinnati Financial,Financials,\"Fairfield, Ohio\",18.12.1997,1950\\r\\nCTAS,Cintas,Industrials,\"Mason, Ohio\",01.03.2001,1929\\r\\nCSCO,Cisco,Information Technology,\"San Jose, California\",01.12.1993,1984\\r\\nC,Citigroup,Financials,\"New York City, New York\",31.05.1988,1998\\r\\nCFG,Citizens Financial Group,Financials,\"Providence, Rhode Island\",29.01.2016,1828\\r\\nCLX,Clorox,Consumer Staples,\"Oakland, California\",31.03.1969,1913\\r\\nCME,CME Group,Financials,\"Chicago, Illinois\",11.08.2006,1848\\r\\nCMS,CMS Energy,Utilities,\"Jackson, Michigan\",03.05.1999,1886\\r\\nKO,The Coca-Cola Company,Consumer Staples,\"Atlanta, Georgia\",04.03.1957,1886\\r\\nCTSH,Cognizant,Information Technology,\"Teaneck, New Jersey\",17.11.2006,1994\\r\\nCL,Colgate-Palmolive,Consumer Staples,\"New York City, New York\",04.03.1957,1806\\r\\nCMCSA,Comcast,Communication Services,\"Philadelphia, Pennsylvania\",19.11.2002,1963\\r\\nCMA,Comerica,Financials,\"Dallas, Texas\",01.12.1995,1849\\r\\nCAG,Conagra Brands,Consumer Staples,\"Chicago, Illinois\",31.08.1983,1919\\r\\nCOP,ConocoPhillips,Energy,\"Houston, Texas\",04.03.1957,2002\\r\\nED,Consolidated Edison,Utilities,\"New York City, New York\",,1823\\r\\nSTZ,Constellation Brands,Consumer Staples,\"Victor, New York\",01.07.2005,1945\\r\\nCEG,Constellation Energy,Utilities,\"Baltimore, Maryland\",02.02.2022,1999\\r\\nCOO,CooperCompanies,Health Care,\"San Ramon, California\",23.09.2016,1958\\r\\nCPRT,Copart,Industrials,\"Dallas, Texas\",02.07.2018,1982\\r\\nGLW,Corning Inc.,Information Technology,\"Corning, New York\",,1851\\r\\nCTVA,Corteva,Materials,\"Indianapolis, Indiana\",03.06.2019,2019\\r\\nCSGP,CoStar Group,Industrials,\"Washington, D.C.\",19.09.2022,1987\\r\\nCOST,Costco,Consumer Staples,\"Issaquah, Washington\",01.10.1993,1976\\r\\nCTRA,Coterra,Energy,\"Houston, Texas\",23.06.2008,2021 (1989)\\r\\nCCI,Crown Castle,Real Estate,\"Houston, Texas\",14.03.2012,1994\\r\\nCSX,CSX,Industrials,\"Jacksonville, Florida\",30.09.1967,1980\\r\\nCMI,Cummins,Industrials,\"Columbus, Indiana\",31.03.1965,1919\\r\\nCVS,CVS Health,Health Care,\"Woonsocket, Rhode Island\",04.03.1957,1996\\r\\nDHI,D.R. Horton,Consumer Discretionary,\"Arlington, Texas\",22.06.2005,1978\\r\\nDHR,Danaher Corporation,Health Care,\"Washington, D.C.\",,1969\\r\\nDRI,Darden Restaurants,Consumer Discretionary,\"Orlando, Florida\",,1938\\r\\nDVA,DaVita Inc.,Health Care,\"Denver, Colorado\",31.07.2008,1979\\r\\nDE,John Deere,Industrials,\"Moline, Illinois\",04.03.1957,1837\\r\\nDAL,Delta Air Lines,Industrials,\"Atlanta, Georgia\",11.09.2013,1929\\r\\nXRAY,Dentsply Sirona,Health Care,\"Charlotte, North Carolina\",14.11.2008,2016 (1969)\\r\\nDVN,Devon Energy,Energy,\"Oklahoma City, Oklahoma\",30.08.2000,1971\\r\\nDXCM,Dexcom,Health Care,\"San Diego, California\",12.05.2020,1999\\r\\nFANG,Diamondback Energy,Energy,\"Midland, Texas\",03.12.2018,2007\\r\\nDLR,Digital Realty,Real Estate,\"Austin, Texas\",18.05.2016,2004\\r\\nDFS,Discover Financial,Financials,\"Riverwoods, Illinois\",02.07.2007,1985\\r\\nDISH,Dish Network,Communication Services,\"Meridian, Colorado\",13.03.2017,1980\\r\\nDIS,Disney,Communication Services,\"Burbank, California\",30.06.1976,1923\\r\\nDG,Dollar General,Consumer Discretionary,\"Goodlettsville, Tennessee\",03.12.2012,1939\\r\\nDLTR,Dollar Tree,Consumer Discretionary,\"Chesapeake, Virginia\",19.12.2011,1986\\r\\nD,Dominion Energy,Utilities,\"Richmond, Virginia\",,1983\\r\\nDPZ,Domino\\'s,Consumer Discretionary,\"Ann Arbor, Michigan\",12.05.2020,1960\\r\\nDOV,Dover Corporation,Industrials,\"Downers Grove, Illinois\",31.10.1985,1955\\r\\nDOW,Dow Inc.,Materials,\"Midland, Michigan\",01.04.2019,2019\\r\\nDTE,DTE Energy,Utilities,\"Detroit, Michigan\",04.03.1957,1995\\r\\nDUK,Duke Energy,Utilities,\"Charlotte, North Carolina\",30.06.1976,1904\\r\\nDD,DuPont,Materials,\"Wilmington, Delaware\",02.04.2019,2017\\r\\nDXC,DXC Technology,Information Technology,\"Tysons Corner, Virginia\",04.04.2017,2017\\r\\nEMN,Eastman Chemical Company,Materials,\"Kingsport, Tennessee\",01.01.1994,1920\\r\\nETN,Eaton Corporation,Industrials,\"Dublin, Ireland\",,1911\\r\\nEBAY,eBay,Consumer Discretionary,\"San Jose, California\",22.07.2002,1995\\r\\nECL,Ecolab,Materials,\"Saint Paul, Minnesota\",31.01.1989,1923\\r\\nEIX,Edison International,Utilities,\"Rosemead, California\",04.03.1957,1886\\r\\nEW,Edwards Lifesciences,Health Care,\"Irvine, California\",01.04.2011,1958\\r\\nEA,Electronic Arts,Communication Services,\"Redwood City, California\",22.07.2002,1982\\r\\nELV,Elevance Health,Health Care,\"Indianapolis, Indiana\",25.07.2002,2014 (1946)\\r\\nLLY,Eli Lilly and Company,Health Care,\"Indianapolis, Indiana\",31.12.1970,1876\\r\\nEMR,Emerson Electric,Industrials,\"Ferguson, Missouri\",31.03.1965,1890\\r\\nENPH,Enphase,Information Technology,\"Fremont, California\",07.01.2021,2006\\r\\nETR,Entergy,Utilities,\"New Orleans, Louisiana\",04.03.1957,1913\\r\\nEOG,EOG Resources,Energy,\"Houston, Texas\",02.11.2000,1999\\r\\nEPAM,EPAM Systems,Information Technology,\"Newtown, Pennsylvania\",14.12.2021,1993\\r\\nEQT,EQT,Energy,\"Pittsburgh, Pennsylvania\",03.10.2022,1888\\r\\nEFX,Equifax,Industrials,\"Atlanta, Georgia\",19.06.1997,1899\\r\\nEQIX,Equinix,Real Estate,\"Redwood City, California\",20.03.2015,1998\\r\\nEQR,Equity Residential,Real Estate,\"Chicago, Illinois\",03.12.2001,1969\\r\\nESS,Essex Property Trust,Real Estate,\"San Mateo, California\",02.04.2014,1971\\r\\nEL,The EstÃ©e Lauder Companies,Consumer Staples,\"New York City, New York\",05.01.2006,1946\\r\\nETSY,Etsy,Consumer Discretionary,\"New York City, New York\",21.09.2020,2005\\r\\nRE,Everest Re,Financials,\"Hamilton, Bermuda\",19.06.2017,1973\\r\\nEVRG,Evergy,Utilities,\"Kansas City, Missouri\",05.06.2018,1909\\r\\nES,Eversource,Utilities,\"Hartford, Connecticut\",2009,1966\\r\\nEXC,Exelon,Utilities,\"Chicago, Illinois\",04.03.1957,2000\\r\\nEXPE,Expedia Group,Consumer Discretionary,\"Seattle, Washington\",02.10.2007,1996\\r\\nEXPD,Expeditors International,Industrials,\"Seattle, Washington\",10.10.2007,1979\\r\\nEXR,Extra Space Storage,Real Estate,\"Salt Lake City, Utah\",19.01.2016,1977\\r\\nXOM,ExxonMobil,Energy,\"Irving, Texas\",04.03.1957,1999\\r\\nFFIV,\"F5, Inc.\",Information Technology,\"Seattle, Washington\",20.12.2010,1996\\r\\nFDS,FactSet,Financials,\"Norwalk, Connecticut\",20.12.2021,1978\\r\\nFAST,Fastenal,Industrials,\"Winona, Minnesota\",15.09.2008,1967\\r\\nFRT,Federal Realty,Real Estate,\"Rockville, Maryland\",01.02.2016,1962\\r\\nFDX,FedEx,Industrials,\"Memphis, Tennessee\",31.12.1980,1971\\r\\nFITB,Fifth Third Bank,Financials,\"Cincinnati, Ohio\",,1858\\r\\nFRC,First Republic Bank,Financials,\"San Francisco, California\",02.01.2019,1985\\r\\nFE,FirstEnergy,Utilities,\"Akron, Ohio\",,1997\\r\\nFIS,FIS,Information Technology,\"Jacksonville, Florida\",10.11.2006,1968\\r\\nFISV,Fiserv,Information Technology,\"Brookfield, Wisconsin\",02.04.2001,1984\\r\\nFLT,Fleetcor,Information Technology,\"Atlanta, Georgia\",20.06.2018,2000\\r\\nFMC,FMC Corporation,Materials,\"Philadelphia, Pennsylvania\",19.08.2009,1883\\r\\nF,Ford Motor Company,Consumer Discretionary,\"Dearborn, Michigan\",04.03.1957,1903\\r\\nFTNT,Fortinet,Information Technology,\"Sunnyvale, California\",11.10.2018,2000\\r\\nFTV,Fortive,Industrials,\"Everett, Washington\",01.07.2016,2016\\r\\nFBHS,Fortune Brands Home & Security,Industrials,\"Deerfield, Illinois\",22.06.2016,2011 (1969)\\r\\nFOXA,Fox CorporationÂ\\xa0(Class A),Communication Services,\"New York City, New York\",01.07.2013,2019\\r\\nFOX,Fox CorporationÂ\\xa0(Class B),Communication Services,\"New York City, New York\",18.09.2015,2019\\r\\nBEN,Franklin Templeton,Financials,\"San Mateo, California\",,1947\\r\\nFCX,Freeport-McMoRan,Materials,\"Phoenix, Arizona\",,1912\\r\\nGRMN,Garmin,Consumer Discretionary,\"Schaffhausen, Switzerland\",12.12.2012,1989\\r\\nIT,Gartner,Information Technology,\"Stamford, Connecticut\",05.04.2017,1979\\r\\nGEN,Gen Digital Inc.,Information Technology,\"Tempe, Arizona\",25.03.2003,1982\\r\\nGNRC,Generac,Industrials,\"Waukesha, Wisconsin\",22.03.2021,1959\\r\\nGD,General Dynamics,Industrials,\"Falls Church, Virginia\",04.03.1957,1899\\r\\nGE,General Electric,Industrials,\"Boston, Massachusetts\",,1892\\r\\nGIS,General Mills,Consumer Staples,\"Golden Valley, Minnesota\",31.03.1969,1856\\r\\nGM,General Motors,Consumer Discretionary,\"Detroit, Michigan\",06.06.2013,1908\\r\\nGPC,Genuine Parts Company,Consumer Discretionary,\"Atlanta, Georgia\",31.12.1973,1925\\r\\nGILD,Gilead Sciences,Health Care,\"Foster City, California\",01.07.2004,1987\\r\\nGL,Globe Life,Financials,\"McKinney, Texas\",30.04.1989,1900\\r\\nGPN,Global Payments,Information Technology,\"Atlanta, Georgia\",25.04.2016,2000\\r\\nGS,Goldman Sachs,Financials,\"New York City, New York\",22.07.2002,1869\\r\\nHAL,Halliburton,Energy,\"Houston, Texas\",04.03.1957,1919\\r\\nHIG,Hartford (The),Financials,\"Hartford, Connecticut\",04.03.1957,1810\\r\\nHAS,Hasbro,Consumer Discretionary,\"Pawtucket, Rhode Island\",30.09.1984,1923\\r\\nHCA,HCA Healthcare,Health Care,\"Nashville,Â\\xa0Tennessee\",27.01.2015,1968\\r\\nPEAK,Healthpeak,Real Estate,\"Long Beach, California\",31.03.2008,1985\\r\\nHSIC,Henry Schein,Health Care,\"Melville, New York\",17.03.2015,1932\\r\\nHSY,Hershey\\'s,Consumer Staples,\"Hershey, Pennsylvania\",04.03.1957,1894\\r\\nHES,Hess Corporation,Energy,\"New York City, New York\",31.05.1984,1919\\r\\nHPE,Hewlett Packard Enterprise,Information Technology,\"Houston, Texas\",02.11.2015,2015\\r\\nHLT,Hilton Worldwide,Consumer Discretionary,\"Tysons Corner, Virginia\",19.06.2017,1919\\r\\nHOLX,Hologic,Health Care,\"Marlborough, Massachusetts\",30.03.2016,1985\\r\\nHD,The Home Depot,Consumer Discretionary,\"Atlanta, Georgia\",31.03.1988,1978\\r\\nHON,Honeywell,Industrials,\"Charlotte, North Carolina\",31.03.1964,1906\\r\\nHRL,Hormel Foods,Consumer Staples,\"Austin, Minnesota\",04.03.2009,1891\\r\\nHST,Host Hotels & Resorts,Real Estate,\"Bethesda, Maryland\",20.03.2007,1993\\r\\nHWM,Howmet Aerospace,Industrials,\"Pittsburgh, Pennsylvania\",31.03.1964,2016\\r\\nHPQ,HP Inc.,Information Technology,\"Palo Alto, California\",31.12.1974,1939 (2015)\\r\\nHUM,Humana,Health Care,\"Louisville, Kentucky\",,1961\\r\\nHBAN,Huntington Bancshares,Financials,\"Columbus, Ohio;Â\\xa0Detroit, Michigan\",,1866\\r\\nHII,Huntington Ingalls Industries,Industrials,\"Newport News, Virginia\",03.01.2018,2011\\r\\nIBM,IBM,Information Technology,\"Armonk, New York\",04.03.1957,1911\\r\\nIEX,IDEX Corporation,Industrials,\"Lake Forest, Illinois\",09.08.2019,1988\\r\\nIDXX,Idexx Laboratories,Health Care,\"Westbrook, Maine\",05.01.2017,1983\\r\\nITW,Illinois Tool Works,Industrials,\"Glenview, Illinois\",28.02.1986,1912\\r\\nILMN,Illumina,Health Care,\"San Diego, California\",19.11.2015,1998\\r\\nINCY,Incyte,Health Care,\"Wilmington, Delaware\",28.02.2017,1991\\r\\nIR,Ingersoll Rand,Industrials,\"Davidson, North Carolina\",03.03.2020,1859\\r\\nINTC,Intel,Information Technology,\"Santa Clara, California\",31.12.1976,1968\\r\\nICE,Intercontinental Exchange,Financials,\"Atlanta, Georgia\",26.09.2007,2000\\r\\nIP,International Paper,Materials,\"Memphis, Tennessee\",04.03.1957,1898\\r\\nIPG,The Interpublic Group of Companies,Communication Services,\"New York City, New York\",01.10.1992,1961 (1930)\\r\\nIFF,International Flavors & Fragrances,Materials,\"New York City, New York\",31.03.1976,1958 (1889)\\r\\nINTU,Intuit,Information Technology,\"Mountain View, California\",05.12.2000,1983\\r\\nISRG,Intuitive Surgical,Health Care,\"Sunnyvale, California\",02.06.2008,1995\\r\\nIVZ,Invesco,Financials,\"Atlanta, Georgia\",21.08.2008,1935\\r\\nINVH,Invitation Homes,Real Estate,\"Dallas, Texas\",19.09.2022,2012\\r\\nIQV,IQVIA,Health Care,\"Durham, North Carolina\",29.08.2017,1982\\r\\nIRM,Iron Mountain,Real Estate,\"Boston, Massachusetts\",06.01.2009,1951\\r\\nJBHT,J.B. Hunt,Industrials,\"Lowell, Arkansas\",01.07.2015,1961\\r\\nJKHY,Jack Henry & Associates,Information Technology,\"Monett, Missouri\",13.11.2018,1976\\r\\nJ,Jacobs Solutions,Industrials,\"Dallas, Texas\",26.10.2007,1947\\r\\nJNJ,Johnson & Johnson,Health Care,\"New Brunswick, New Jersey\",30.06.1973,1886\\r\\nJCI,Johnson Controls,Industrials,\"Cork, Ireland\",27.08.2010,1885\\r\\nJPM,JPMorgan Chase,Financials,\"New York City, New York\",30.06.1975,2000 (1799 / 1871)\\r\\nJNPR,Juniper Networks,Information Technology,\"Sunnyvale, California\",02.06.2006,1996\\r\\nK,Kellogg\\'s,Consumer Staples,\"Battle Creek, Michigan\",11.09.1989,1906\\r\\nKDP,Keurig Dr Pepper,Consumer Staples,\"Burlington, Massachusetts\",21.06.2022,1981\\r\\nKEY,KeyCorp,Financials,\"Cleveland, Ohio\",01.03.1994,1825\\r\\nKEYS,Keysight,Information Technology,\"Santa Rosa, California\",06.11.2018,2014 (1939)\\r\\nKMB,Kimberly-Clark,Consumer Staples,\"Irving, Texas\",04.03.1957,1872\\r\\nKIM,Kimco Realty,Real Estate,\"New Hyde Park, New York\",04.04.2006,1958\\r\\nKMI,Kinder Morgan,Energy,\"Houston, Texas\",25.05.2012,1997\\r\\nKLAC,KLA Corporation,Information Technology,\"Milpitas, California\",,1975/1977 (1997)\\r\\nKHC,Kraft Heinz,Consumer Staples,\"Chicago, Illinois;Â\\xa0Pittsburgh, Pennsylvania\",06.07.2015,2015 (1869)\\r\\nKR,Kroger,Consumer Staples,\"Cincinnati, Ohio\",04.03.1957,1883\\r\\nLHX,L3Harris,Industrials,\"Melbourne, Florida\",22.09.2008,2019 (1895)\\r\\nLH,LabCorp,Health Care,\"Burlington, North Carolina\",01.11.2004,1978\\r\\nLRCX,Lam Research,Information Technology,\"Fremont, California\",29.06.2012,1980\\r\\nLW,Lamb Weston,Consumer Staples,\"Eagle, Idaho\",03.12.2018,2016 (1950)\\r\\nLVS,Las Vegas Sands,Consumer Discretionary,\"Las Vegas, Nevada\",03.10.2019,1988\\r\\nLDOS,Leidos,Industrials,\"Reston, Virginia\",09.08.2019,1969\\r\\nLEN,Lennar,Consumer Discretionary,\"Miami, Florida\",04.10.2005,1954\\r\\nLNC,Lincoln Financial,Financials,\"Radnor, Pennsylvania\",30.06.1976,1905\\r\\nLIN,Linde plc,Materials,\"Guildford, United Kingdom\",01.07.1992,1879\\r\\nLYV,Live Nation Entertainment,Communication Services,\"Beverly Hills, California\",23.12.2019,2010\\r\\nLKQ,LKQ Corporation,Consumer Discretionary,\"Chicago, Illinois\",23.05.2016,1998\\r\\nLMT,Lockheed Martin,Industrials,\"Bethesda, Maryland\",31.07.1984,1995\\r\\nL,Loews Corporation,Financials,\"New York City, New York\",,1959\\r\\nLOW,Lowe\\'s,Consumer Discretionary,\"Mooresville, North Carolina\",29.02.1984,1904/1946/1959\\r\\nLUMN,Lumen Technologies,Communication Services,\"Monroe, Louisiana\",25.03.1999,1983 (1877)\\r\\nLYB,LyondellBasell,Materials,\"Rotterdam, Netherlands\",05.09.2012,2007\\r\\nMTB,M&T Bank,Financials,\"Buffalo, New York\",23.02.2004,1856\\r\\nMRO,Marathon Oil,Energy,\"Houston, Texas\",01.05.1991,1887\\r\\nMPC,Marathon Petroleum,Energy,\"Findlay, Ohio\",01.07.2011,2009 (1887)\\r\\nMKTX,MarketAxess,Financials,\"New York City, New York\",01.07.2019,2000\\r\\nMAR,Marriott International,Consumer Discretionary,\"Bethesda, Maryland\",,1927\\r\\nMMC,Marsh McLennan,Financials,\"New York City, New York\",31.08.1987,1905\\r\\nMLM,Martin Marietta Materials,Materials,\"Raleigh, North Carolina\",02.07.2014,1993\\r\\nMAS,Masco,Industrials,\"Livonia, Michigan\",30.06.1981,1929\\r\\nMA,Mastercard,Information Technology,\"Harrison, New York\",18.07.2008,1966\\r\\nMTCH,Match Group,Communication Services,\"Dallas, Texas\",20.09.2021,1986\\r\\nMKC,McCormick & Company,Consumer Staples,\"Hunt Valley, Maryland\",20.03.2003,1889\\r\\nMCD,McDonald\\'s,Consumer Discretionary,\"Chicago, Illinois\",30.06.1970,1940\\r\\nMCK,McKesson,Health Care,\"Irving, Texas\",,1833\\r\\nMDT,Medtronic,Health Care,\"Dublin, Ireland\",31.10.1986,1949\\r\\nMRK,Merck & Co.,Health Care,\"Kenilworth, New Jersey\",04.03.1957,1891\\r\\nMETA,Meta Platforms,Communication Services,\"Menlo Park, California\",23.12.2013,2004\\r\\nMET,MetLife,Financials,\"New York City, New York\",,1868\\r\\nMTD,Mettler Toledo,Health Care,\"Columbus, Ohio\",06.09.2016,1945\\r\\nMGM,MGM Resorts,Consumer Discretionary,\"Paradise, Nevada\",26.07.2017,1986\\r\\nMCHP,Microchip Technology,Information Technology,\"Chandler, Arizona\",07.09.2007,1989\\r\\nMU,Micron Technology,Information Technology,\"Boise, Idaho\",27.09.1994,1978\\r\\nMSFT,Microsoft,Information Technology,\"Redmond, Washington\",01.06.1994,1975\\r\\nMAA,Mid-America Apartment Communities,Real Estate,\"Memphis, Tennessee\",02.12.2016,1977\\r\\nMRNA,Moderna,Health Care,\"Cambridge, Massachusetts\",21.07.2021,2010\\r\\nMHK,Mohawk Industries,Consumer Discretionary,\"Calhoun, Georgia\",23.12.2013,1878\\r\\nMOH,Molina Healthcare,Health Care,\"Long Beach, California\",02.03.2022,1980\\r\\nTAP,Molson Coors Beverage Company,Consumer Staples,\"Chicago, Illinois\",30.06.1976,\"2005 (Molson 1786, Coors 1873)\"\\r\\nMDLZ,Mondelez International,Consumer Staples,\"Chicago, Illinois\",02.10.2012,2012\\r\\nMPWR,Monolithic Power Systems,Information Technology,\"Kirkland, Washington\",12.02.2021,1997\\r\\nMNST,Monster Beverage,Consumer Staples,\"Corona, California\",28.06.2012,2012 (1935)\\r\\nMCO,Moody\\'s Corporation,Financials,\"New York City, New York\",,1909\\r\\nMS,Morgan Stanley,Financials,\"New York City, New York\",,1935\\r\\nMOS,The Mosaic Company,Materials,\"Tampa, Florida\",26.09.2011,2004 (1865 / 1909)\\r\\nMSI,Motorola Solutions,Information Technology,\"Chicago, Illinois\",,1928 (2011)\\r\\nMSCI,MSCI,Financials,\"New York City, New York\",04.04.2018,1969\\r\\nNDAQ,\"Nasdaq, Inc.\",Financials,\"New York City, New York\",22.10.2008,1971\\r\\nNTAP,NetApp,Information Technology,\"San Jose, California\",25.06.1999,1992\\r\\nNFLX,Netflix,Communication Services,\"Los Gatos, California\",20.12.2010,1997\\r\\nNWL,Newell Brands,Consumer Discretionary,\"Atlanta, Georgia\",30.04.1989,1903\\r\\nNEM,Newmont,Materials,\"Denver, Colorado\",30.06.1969,1921\\r\\nNWSA,News CorpÂ\\xa0(Class A),Communication Services,\"New York City, New York\",01.08.2013,2013 (1980)\\r\\nNWS,News CorpÂ\\xa0(Class B),Communication Services,\"New York City, New York\",18.09.2015,2013 (1980)\\r\\nNEE,NextEra Energy,Utilities,\"Juno Beach, Florida\",30.06.1976,1984 (1925)\\r\\nNKE,\"Nike, Inc.\",Consumer Discretionary,\"Washington County, Oregon\",30.11.1988,1964\\r\\nNI,NiSource,Utilities,\"Merrillville, Indiana\",,1912\\r\\nNDSN,Nordson Corporation,Industrials,\"Westlake, Ohio\",15.02.2022,1935\\r\\nNSC,Norfolk Southern Railway,Industrials,\"Norfolk, Virginia\",04.03.1957,1881/1894 (1980)\\r\\nNTRS,Northern Trust,Financials,\"Chicago, Illinois\",,1889\\r\\nNOC,Northrop Grumman,Industrials,\"West Falls Church, Virginia\",30.06.1985,\"1994 (Northrop 1939, Grumman 1930)\"\\r\\nNCLH,Norwegian Cruise Line Holdings,Consumer Discretionary,\"Miami, Florida\",13.10.2017,2011 (1966)\\r\\nNRG,NRG Energy,Utilities,\"Houston, Texas\",29.01.2010,1992\\r\\nNUE,Nucor,Materials,\"Charlotte, North Carolina\",30.04.1985,1940\\r\\nNVDA,Nvidia,Information Technology,\"Santa Clara, California\",30.11.2001,1993\\r\\nNVR,\"NVR, Inc.\",Consumer Discretionary,\"Reston, Virginia\",26.09.2019,1980\\r\\nNXPI,NXP Semiconductors,Information Technology,\"Eindhoven, Netherlands\",22.03.2021,1953\\r\\nORLY,O\\'Reilly Auto Parts,Consumer Discretionary,\"Springfield, Missouri\",27.03.2009,1957\\r\\nOXY,Occidental Petroleum,Energy,\"Houston, Texas\",31.12.1982,1920\\r\\nODFL,Old Dominion,Industrials,\"Thomasville, North Carolina\",09.12.2019,1934\\r\\nOMC,Omnicom Group,Communication Services,\"New York City, New York\",,1986\\r\\nON,ON Semiconductor,Information Technology,\"Phoenix, Arizona\",21.06.2022,1999\\r\\nOKE,Oneok,Energy,\"Tulsa, Oklahoma\",15.03.2010,1906\\r\\nORCL,Oracle Corporation,Information Technology,\"Austin, Texas\",31.08.1989,1977\\r\\nOGN,Organon & Co.,Health Care,\"Jersey City, New Jersey\",03.06.2021,2021\\r\\nOTIS,Otis Worldwide,Industrials,\"Farmington, Connecticut\",03.04.2020,2020 (1853)\\r\\nPCAR,Paccar,Industrials,\"Bellevue, Washington\",31.12.1980,1905\\r\\nPKG,Packaging Corporation of America,Materials,\"Lake Forest, Illinois\",26.07.2017,1959\\r\\nPARA,Paramount Global,Communication Services,\"New York City, New York\",,2019 (1952)\\r\\nPH,Parker Hannifin,Industrials,\"Cleveland, Ohio\",30.11.1985,1917\\r\\nPAYX,Paychex,Information Technology,\"Penfield, New York\",,1971\\r\\nPAYC,Paycom,Information Technology,\"Oklahoma City, Oklahoma\",28.01.2020,1998\\r\\nPYPL,PayPal,Information Technology,\"San Jose, California\",20.07.2015,1998\\r\\nPNR,Pentair,Industrials,\"Worsley, United Kingdom\",01.10.2012,1966\\r\\nPEP,PepsiCo,Consumer Staples,\"Purchase, New York\",04.03.1957,1898\\r\\nPKI,PerkinElmer,Health Care,\"Waltham, Massachusetts\",31.05.1985,1937\\r\\nPFE,Pfizer,Health Care,\"New York City, New York\",04.03.1957,1849\\r\\nPCG,PG&E,Utilities,\"San Francisco, California\",03.10.2022,1905\\r\\nPM,Philip Morris International,Consumer Staples,\"New York City, New York\",31.03.2008,2008 (1847)\\r\\nPSX,Phillips 66,Energy,\"Houston, Texas\",01.05.2012,2012 (1917)\\r\\nPNW,Pinnacle West,Utilities,\"Phoenix, Arizona\",,1985\\r\\nPXD,Pioneer Natural Resources,Energy,\"Irving, Texas\",24.09.2008,1997\\r\\nPNC,PNC Financial Services,Financials,\"Pittsburgh, Pennsylvania\",30.04.1988,1845\\r\\nPOOL,Pool Corporation,Consumer Discretionary,\"Covington, Louisiana\",07.10.2020,1993\\r\\nPPG,PPG Industries,Materials,\"Pittsburgh, Pennsylvania\",04.03.1957,1883\\r\\nPPL,PPL Corporation,Utilities,\"Allentown, Pennsylvania\",,1920\\r\\nPFG,Principal Financial Group,Financials,\"Des Moines, Iowa\",22.07.2002,1879\\r\\nPG,Procter & Gamble,Consumer Staples,\"Cincinnati, Ohio\",04.03.1957,1837\\r\\nPGR,Progressive Corporation,Financials,\"Mayfield Village, Ohio\",04.08.1997,1937\\r\\nPLD,Prologis,Real Estate,\"San Francisco, California\",17.07.2003,1983\\r\\nPRU,Prudential Financial,Financials,\"Newark, New Jersey\",22.07.2002,1875\\r\\nPEG,Public Service Enterprise Group,Utilities,\"Newark, New Jersey\",04.03.1957,1903\\r\\nPTC,PTC,Information Technology,\"Boston, Massachusetts\",20.04.2021,1985\\r\\nPSA,Public Storage,Real Estate,\"Glendale, California\",19.08.2005,1972\\r\\nPHM,PulteGroup,Consumer Discretionary,\"Atlanta, Georgia\",30.04.1984,1956\\r\\nQRVO,Qorvo,Information Technology,\"Greensboro, North Carolina\",11.06.2015,2015\\r\\nPWR,Quanta Services,Industrials,\"Houston, Texas\",01.07.2009,1997\\r\\nQCOM,Qualcomm,Information Technology,\"San Diego, California\",,1985\\r\\nDGX,Quest Diagnostics,Health Care,\"Secaucus, New Jersey\",12.12.2002,1967\\r\\nRL,Ralph Lauren Corporation,Consumer Discretionary,\"New York City, New York\",02.02.2007,1967\\r\\nRJF,Raymond James,Financials,\"St. Petersburg, Florida\",20.03.2017,1962\\r\\nRTX,Raytheon Technologies,Industrials,\"Waltham, Massachusetts\",,1922\\r\\nO,Realty Income,Real Estate,\"San Diego, California\",07.04.2015,1969\\r\\nREG,Regency Centers,Real Estate,\"Jacksonville,Â\\xa0Florida\",02.03.2017,1963\\r\\nREGN,Regeneron,Health Care,\"Tarrytown, New York\",01.05.2013,1988\\r\\nRF,Regions Financial Corporation,Financials,\"Birmingham, Alabama\",28.08.1998,1971\\r\\nRSG,Republic Services,Industrials,\"Phoenix, Arizona\",05.12.2008,1998 (1981)\\r\\nRMD,ResMed,Health Care,\"San Diego, California\",26.07.2017,1989\\r\\nRHI,Robert Half,Industrials,\"Menlo Park, California\",05.12.2000,1948\\r\\nROK,Rockwell Automation,Industrials,\"Milwaukee, Wisconsin\",,1903\\r\\nROL,\"Rollins, Inc.\",Industrials,\"Atlanta, Georgia\",01.10.2018,1948\\r\\nROP,Roper Technologies,Information Technology,\"Sarasota, Florida\",23.12.2009,1981\\r\\nROST,Ross Stores,Consumer Discretionary,\"Dublin, California\",21.12.2009,1982\\r\\nRCL,Royal Caribbean Group,Consumer Discretionary,\"Miami, Florida\",05.12.2014,1997\\r\\nSPGI,S&P Global,Financials,\"New York City, New York\",,1917\\r\\nCRM,Salesforce,Information Technology,\"San Francisco, California\",15.09.2008,1999\\r\\nSBAC,SBA Communications,Real Estate,\"Boca Raton, Florida\",01.09.2017,1989\\r\\nSLB,Schlumberger,Energy,\"CuraÃ§ao,Â\\xa0Kingdom of the Netherlands\",31.03.1965,1926\\r\\nSTX,Seagate Technology,Information Technology,\"Dublin, Ireland\",02.07.2012,1979\\r\\nSEE,Sealed Air,Materials,\"Charlotte, North Carolina\",04.03.1957,1960\\r\\nSRE,Sempra Energy,Utilities,\"San Diego, California\",,1998\\r\\nNOW,ServiceNow,Information Technology,\"Santa Clara, California\",21.11.2019,2003\\r\\nSHW,Sherwin-Williams,Materials,\"Cleveland, Ohio\",30.06.1964,1866\\r\\nSBNY,Signature Bank,Financials,\"New York City, New York\",20.12.2021,2001\\r\\nSPG,Simon Property Group,Real Estate,\"Indianapolis, Indiana\",26.06.2002,2003\\r\\nSWKS,Skyworks Solutions,Information Technology,\"Irvine, California\",12.03.2015,2002\\r\\nSJM,The J.M. Smucker Company,Consumer Staples,\"Orrville, Ohio\",06.11.2008,1897\\r\\nSNA,Snap-on,Industrials,\"Kenosha, Wisconsin\",30.09.1982,1920\\r\\nSEDG,SolarEdge,Information Technology,\"Herzliya, Israel\",20.12.2021,2006\\r\\nSO,Southern Company,Utilities,\"Atlanta, Georgia\",04.03.1957,1945\\r\\nLUV,Southwest Airlines,Industrials,\"Dallas, Texas\",01.07.1994,1967\\r\\nSWK,Stanley Black & Decker,Industrials,\"New Britain, Connecticut\",30.09.1982,1843\\r\\nSBUX,Starbucks,Consumer Discretionary,\"Seattle, Washington\",07.06.2000,1971\\r\\nSTT,State Street Corporation,Financials,\"Boston, Massachusetts\",,1792\\r\\nSTE,Steris,Health Care,\"Dublin, Ireland\",23.12.2019,1985\\r\\nSYK,Stryker Corporation,Health Care,\"Kalamazoo, Michigan\",12.12.2000,1941\\r\\nSIVB,SVB Financial,Financials,\"Santa Clara, California\",19.03.2018,1983\\r\\nSYF,Synchrony Financial,Financials,\"Stamford, Connecticut\",18.11.2015,2003\\r\\nSNPS,Synopsys,Information Technology,\"Mountain View, California\",16.03.2017,1986\\r\\nSYY,Sysco,Consumer Staples,\"Houston, Texas\",31.12.1986,1969\\r\\nTMUS,T-Mobile US,Communication Services,\"Bellevue, Washington\",15.07.2019,1994\\r\\nTROW,T. Rowe Price,Financials,\"Baltimore, Maryland\",,1937\\r\\nTTWO,Take-Two Interactive,Communication Services,\"New York City, New York\",19.03.2018,1993\\r\\nTPR,\"Tapestry, Inc.\",Consumer Discretionary,\"New York City, New York\",,2017\\r\\nTRGP,Targa Resources,Energy,\"Houston, Texas\",12.10.2022,2005\\r\\nTGT,Target Corporation,Consumer Discretionary,\"Minneapolis, Minnesota\",31.12.1976,1902\\r\\nTEL,TE Connectivity,Information Technology,\"Schaffhausen,Â\\xa0Switzerland\",17.10.2011,2007\\r\\nTDY,Teledyne Technologies,Information Technology,\"Thousand Oaks, California\",22.06.2020,1960\\r\\nTFX,Teleflex,Health Care,\"Wayne, Pennsylvania\",18.01.2019,1943\\r\\nTER,Teradyne,Information Technology,\"North Reading, Massachusetts\",21.09.2020,1960\\r\\nTSLA,\"Tesla, Inc.\",Consumer Discretionary,\"Austin, Texas\",21.12.2020,2003\\r\\nTXN,Texas Instruments,Information Technology,\"Dallas, Texas\",,1930\\r\\nTXT,Textron,Industrials,\"Providence, Rhode Island\",31.12.1978,1923\\r\\nTMO,Thermo Fisher Scientific,Health Care,\"Waltham, Massachusetts\",03.08.2004,2006 (1902)\\r\\nTJX,TJX Companies,Consumer Discretionary,\"Framingham, Massachusetts\",30.09.1985,1987\\r\\nTSCO,Tractor Supply,Consumer Discretionary,\"Brentwood, Tennessee\",24.01.2014,1938\\r\\nTT,Trane Technologies,Industrials,\"Dublin, Ireland\",17.11.2010,1871\\r\\nTDG,TransDigm Group,Industrials,\"Cleveland, Ohio\",03.06.2016,1993\\r\\nTRV,The Travelers Companies,Financials,\"New York City, New York\",21.08.2002,1853\\r\\nTRMB,Trimble Inc.,Information Technology,\"Westminster, Colorado\",21.01.2021,1978\\r\\nTFC,Truist,Financials,\"Charlotte, North Carolina\",04.12.1997,1872\\r\\nTYL,Tyler Technologies,Information Technology,\"Plano, Texas\",22.06.2020,1966\\r\\nTSN,Tyson Foods,Consumer Staples,\"Springdale, Arkansas\",10.08.2005,1935\\r\\nUSB,U.S. Bank,Financials,\"Minneapolis, Minnesota\",,1968\\r\\nUDR,\"UDR, Inc.\",Real Estate,\"Highlands Ranch, Colorado\",07.03.2016,1972\\r\\nULTA,Ulta Beauty,Consumer Discretionary,\"Bolingbrook, Illinois\",18.04.2016,1990\\r\\nUNP,Union Pacific Corporation,Industrials,\"Omaha, Nebraska\",04.03.1957,1862\\r\\nUAL,United Airlines Holdings,Industrials,\"Chicago, Illinois\",03.09.2015,1967\\r\\nUPS,United Parcel Service,Industrials,\"Sandy Springs, Georgia\",22.07.2002,1907\\r\\nURI,United Rentals,Industrials,\"Stamford, Connecticut\",20.09.2014,1997\\r\\nUNH,UnitedHealth Group,Health Care,\"Minnetonka, Minnesota\",01.07.1994,1977\\r\\nUHS,Universal Health Services,Health Care,\"King of Prussia, Pennsylvania\",20.09.2014,1979\\r\\nVLO,Valero Energy,Energy,\"San Antonio, Texas\",,1980\\r\\nVTR,Ventas,Real Estate,\"Chicago, Illinois\",04.03.2009,1998\\r\\nVRSN,Verisign,Information Technology,\"Dulles, Virginia\",01.02.2006,1995\\r\\nVRSK,Verisk,Industrials,\"Jersey City, New Jersey\",08.10.2015,1971\\r\\nVZ,Verizon,Communication Services,\"New York City, New York\",30.11.1983,1983 (1877)\\r\\nVRTX,Vertex Pharmaceuticals,Health Care,\"Cambridge, Massachusetts\",23.09.2013,1989\\r\\nVFC,VF Corporation,Consumer Discretionary,\"Denver, Colorado\",30.06.1979,1899\\r\\nVTRS,Viatris,Health Care,\"Pittsburgh, Pennsylvania\",23.04.2004,1961\\r\\nVICI,Vici Properties,Real Estate,\"New York City, New York\",08.06.2022,2017\\r\\nV,Visa Inc.,Information Technology,\"San Francisco, California\",21.12.2009,1958\\r\\nVNO,Vornado Realty Trust,Real Estate,\"New York City, New York\",2005,1982\\r\\nVMC,Vulcan Materials Company,Materials,\"Birmingham, Alabama\",30.06.1999,1909\\r\\nWAB,Wabtec,Industrials,\"Pittsburgh, Pennsylvania\",27.02.2019,1999 (1869)\\r\\nWBA,Walgreens Boots Alliance,Consumer Staples,\"Deerfield, Illinois\",31.12.1979,2014\\r\\nWMT,Walmart,Consumer Staples,\"Bentonville, Arkansas\",31.08.1982,1962\\r\\nWBD,Warner Bros. Discovery,Communication Services,\"New York City, New York\",11.04.2022,2022\\r\\nWM,Waste Management,Industrials,\"Houston, Texas\",,1968\\r\\nWAT,Waters Corporation,Health Care,\"Milford, Massachusetts\",,1958\\r\\nWEC,WEC Energy Group,Utilities,\"Milwaukee, Wisconsin\",31.10.2008,1896\\r\\nWFC,Wells Fargo,Financials,\"San Francisco, California\",30.06.1976,1852\\r\\nWELL,Welltower,Real Estate,\"Toledo, Ohio\",30.01.2009,1970\\r\\nWST,West Pharmaceutical Services,Health Care,\"Exton, Pennsylvania\",22.05.2020,1923\\r\\nWDC,Western Digital,Information Technology,\"San Jose, California\",01.07.2009,1970\\r\\nWRK,WestRock,Materials,\"Atlanta, Georgia\",,2015\\r\\nWY,Weyerhaeuser,Real Estate,\"Seattle, Washington\",,1900\\r\\nWHR,Whirlpool Corporation,Consumer Discretionary,\"Benton Harbor, Michigan\",,1911\\r\\nWMB,Williams Companies,Energy,\"Tulsa, Oklahoma\",31.03.1975,1908\\r\\nWTW,Willis Towers Watson,Financials,\"London, United Kingdom\",05.01.2016,2016\\r\\nGWW,W. W. Grainger,Industrials,\"Lake Forest, Illinois\",30.06.1981,1927\\r\\nWYNN,Wynn Resorts,Consumer Discretionary,\"Paradise, Nevada\",14.11.2008,2002\\r\\nXEL,Xcel Energy,Utilities,\"Minneapolis, Minnesota\",04.03.1957,1909\\r\\nXYL,Xylem Inc.,Industrials,\"White Plains, New York\",01.11.2011,2011\\r\\nYUM,Yum! Brands,Consumer Discretionary,\"Louisville, Kentucky\",06.10.1997,1997\\r\\nZBRA,Zebra Technologies,Information Technology,\"Lincolnshire, Illinois\",23.12.2019,1969\\r\\nZBH,Zimmer Biomet,Health Care,\"Warsaw, Indiana\",07.08.2001,1927\\r\\nZION,Zions Bancorporation,Financials,\"Salt Lake City, Utah\",22.06.2001,1873\\r\\nZTS,Zoetis,Health Care,\"Parsippany, New Jersey\",21.06.2013,1952'"
      ]
     },
     "execution_count": 133,
     "metadata": {},
     "output_type": "execute_result"
    }
   ],
   "source": [
    "url = 'https://ies-python-midterm.s3.eu-central-1.amazonaws.com/companies/companies_no_subindustry.csv'\n",
    "r = requests.get(url)\n",
    "\n"
   ]
  }
 ],
 "metadata": {
  "kernelspec": {
   "display_name": "Python 3.11.0 64-bit",
   "language": "python",
   "name": "python3"
  },
  "language_info": {
   "codemirror_mode": {
    "name": "ipython",
    "version": 3
   },
   "file_extension": ".py",
   "mimetype": "text/x-python",
   "name": "python",
   "nbconvert_exporter": "python",
   "pygments_lexer": "ipython3",
   "version": "3.11.0"
  },
  "vscode": {
   "interpreter": {
    "hash": "aee8b7b246df8f9039afb4144a1f6fd8d2ca17a180786b69acc140d282b71a49"
   }
  }
 },
 "nbformat": 4,
 "nbformat_minor": 5
}
